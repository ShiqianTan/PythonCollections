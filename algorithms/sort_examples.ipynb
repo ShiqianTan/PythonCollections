{
 "cells": [
  {
   "cell_type": "markdown",
   "metadata": {},
   "source": [
    "https://stackoverflow.com/questions/7851077/how-to-return-index-of-a-sorted-list"
   ]
  },
  {
   "cell_type": "code",
   "execution_count": 1,
   "metadata": {},
   "outputs": [
    {
     "name": "stdout",
     "output_type": "stream",
     "text": [
      "[0, 1, 6, 4, 2, 3, 5]\n"
     ]
    }
   ],
   "source": [
    "# argsort\n",
    "def argsort(X):\n",
    "    d = dict(enumerate(X))\n",
    "    r = dict(sorted(d.items(), key=lambda x:x[1]))\n",
    "    return list(r.keys())\n",
    "li = [1.5, 3, 15, 21, 7, 31, 5]\n",
    "indies = argsort(li)\n",
    "print(indies)"
   ]
  },
  {
   "cell_type": "code",
   "execution_count": 4,
   "metadata": {},
   "outputs": [
    {
     "ename": "ModuleNotFoundError",
     "evalue": "No module named 'numpy'",
     "output_type": "error",
     "traceback": [
      "\u001b[0;31m---------------------------------------------------------------------------\u001b[0m",
      "\u001b[0;31mModuleNotFoundError\u001b[0m                       Traceback (most recent call last)",
      "\u001b[1;32m/home/alex24/python/PythonCollections/algorithms/sort_examples.ipynb Cell 2\u001b[0m in \u001b[0;36m<cell line: 1>\u001b[0;34m()\u001b[0m\n\u001b[0;32m----> <a href='vscode-notebook-cell://wsl%2Bubuntu/home/alex24/python/PythonCollections/algorithms/sort_examples.ipynb#W1sdnNjb2RlLXJlbW90ZQ%3D%3D?line=0'>1</a>\u001b[0m \u001b[39mimport\u001b[39;00m \u001b[39mnumpy\u001b[39;00m \u001b[39mas\u001b[39;00m \u001b[39mnp\u001b[39;00m\n\u001b[1;32m      <a href='vscode-notebook-cell://wsl%2Bubuntu/home/alex24/python/PythonCollections/algorithms/sort_examples.ipynb#W1sdnNjb2RlLXJlbW90ZQ%3D%3D?line=1'>2</a>\u001b[0m li \u001b[39m=\u001b[39m [\u001b[39m1.5\u001b[39m, \u001b[39m3\u001b[39m, \u001b[39m15\u001b[39m, \u001b[39m21\u001b[39m, \u001b[39m7\u001b[39m, \u001b[39m31\u001b[39m, \u001b[39m5\u001b[39m]\n\u001b[1;32m      <a href='vscode-notebook-cell://wsl%2Bubuntu/home/alex24/python/PythonCollections/algorithms/sort_examples.ipynb#W1sdnNjb2RlLXJlbW90ZQ%3D%3D?line=2'>3</a>\u001b[0m indies \u001b[39m=\u001b[39m np\u001b[39m.\u001b[39margsort(li, kind\u001b[39m=\u001b[39m\u001b[39m'\u001b[39m\u001b[39mheapsort\u001b[39m\u001b[39m'\u001b[39m)\n",
      "\u001b[0;31mModuleNotFoundError\u001b[0m: No module named 'numpy'"
     ]
    }
   ],
   "source": [
    "import numpy as np\n",
    "li = [1.5, 3, 15, 21, 7, 31, 5]\n",
    "indies = np.argsort(li, kind='heapsort')\n",
    "print(indies)"
   ]
  },
  {
   "cell_type": "code",
   "execution_count": 6,
   "metadata": {},
   "outputs": [
    {
     "data": {
      "text/plain": [
       "(['nom', 'apple', 'banana', 'Eeeeeeeeeeek'], [23, 9.231, 0.123423, 10.11001])"
      ]
     },
     "execution_count": 6,
     "metadata": {},
     "output_type": "execute_result"
    }
   ],
   "source": [
    "str_list = [\"banana\", \"apple\", \"nom\", \"Eeeeeeeeeeek\"]\n",
    "sec_list = [0.123423, 9.231, 23, 10.11001]\n",
    "temp = sorted(zip(str_list, sec_list), key=lambda x: len(x[0]))\n",
    "str_list, sec_list = map(list, zip(*temp))\n",
    "str_list, sec_list"
   ]
  },
  {
   "cell_type": "code",
   "execution_count": null,
   "metadata": {},
   "outputs": [],
   "source": []
  }
 ],
 "metadata": {
  "kernelspec": {
   "display_name": "Python 3.8.10 64-bit",
   "language": "python",
   "name": "python3"
  },
  "language_info": {
   "codemirror_mode": {
    "name": "ipython",
    "version": 3
   },
   "file_extension": ".py",
   "mimetype": "text/x-python",
   "name": "python",
   "nbconvert_exporter": "python",
   "pygments_lexer": "ipython3",
   "version": "3.8.10"
  },
  "orig_nbformat": 4,
  "vscode": {
   "interpreter": {
    "hash": "916dbcbb3f70747c44a77c7bcd40155683ae19c65e1c03b4aa3499c5328201f1"
   }
  }
 },
 "nbformat": 4,
 "nbformat_minor": 2
}
